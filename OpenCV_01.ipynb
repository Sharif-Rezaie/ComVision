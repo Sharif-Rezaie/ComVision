{
 "cells": [
  {
   "cell_type": "code",
   "execution_count": null,
   "metadata": {},
   "outputs": [],
   "source": [
    "#import openCV\n",
    "import cv2\n",
    "\n",
    "# reading image source\n",
    "img = cv2.imread(\"lena.png\")\n",
    "\n",
    "# converting colored image to gray\n",
    "img2Gray = cv2.cvtColor(img, cv2.COLOR_BGR2GRAY)\n",
    "\n",
    "#smoothing or bluring image with Gaussian filter\n",
    "imgBlur = cv2.GaussianBlur(img,(7,7),0)\n",
    "\n",
    "# Canny filter edge detection \n",
    "imgCanny = cv2.Canny(img, 150, 140)\n",
    "\n",
    "# display output\n",
    "cv2.imshow(\"Blured Output\", imgBlur)\n",
    "cv2.imshow(\"Gray scale Output\", img2Gray)\n",
    "cv2.imshow(\"Canny Edge detected Output\", imgCanny)\n",
    "\n",
    "# wait for infinite time\n",
    "cv2.waitKey(0)\n",
    "\n",
    " \n"
   ]
  },
  {
   "cell_type": "code",
   "execution_count": null,
   "metadata": {},
   "outputs": [],
   "source": []
  },
  {
   "cell_type": "code",
   "execution_count": null,
   "metadata": {},
   "outputs": [],
   "source": []
  },
  {
   "cell_type": "code",
   "execution_count": null,
   "metadata": {},
   "outputs": [],
   "source": []
  }
 ],
 "metadata": {
  "kernelspec": {
   "display_name": "Python 3",
   "language": "python",
   "name": "python3"
  },
  "language_info": {
   "codemirror_mode": {
    "name": "ipython",
    "version": 3
   },
   "file_extension": ".py",
   "mimetype": "text/x-python",
   "name": "python",
   "nbconvert_exporter": "python",
   "pygments_lexer": "ipython3",
   "version": "3.8.3"
  }
 },
 "nbformat": 4,
 "nbformat_minor": 4
}
